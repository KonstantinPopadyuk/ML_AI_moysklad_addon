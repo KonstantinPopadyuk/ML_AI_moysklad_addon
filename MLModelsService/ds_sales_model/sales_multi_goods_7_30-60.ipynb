{
 "cells": [
  {
   "cell_type": "code",
   "execution_count": 3,
   "metadata": {},
   "outputs": [],
   "source": [
    "import warnings\n",
    "warnings.filterwarnings('ignore')"
   ]
  },
  {
   "cell_type": "code",
   "execution_count": 2,
   "metadata": {},
   "outputs": [],
   "source": [
    "import pandas as pd # type: ignore\n",
    "import matplotlib.pyplot as plt # type: ignore\n",
    "import pickle"
   ]
  },
  {
   "cell_type": "code",
   "execution_count": null,
   "metadata": {},
   "outputs": [],
   "source": [
    "from ds_sales_modules import SalesModelData\n",
    "from ds_sales_modules import TreeBoostedSalesModel\n",
    "from ds_sales_modules import (XGboostStrategy)\n",
    "from ds_sales_modules import LoggerModelsResults\n",
    "from ds_sales_modules import GoodsPredictStrategy"
   ]
  },
  {
   "cell_type": "code",
   "execution_count": 4,
   "metadata": {},
   "outputs": [],
   "source": [
    "VALIDATION_SIZE = 15+1\n",
    "TEST_SIZE = 15\n",
    "GAP = 1\n",
    "# CROSVAL_LIST = [TEST_SIZE+GAP, TEST_SIZE+30+GAP, TEST_SIZE+60+GAP, TEST_SIZE+90+GAP]\n",
    "CROSVAL_LIST = [TEST_SIZE+GAP, TEST_SIZE+30+GAP]\n",
    "CHUNKS = len(CROSVAL_LIST)\n",
    "FEATURES_BLOCKS_QUANTITY_XGBOOST = 2 #cant be more then 2\n",
    "OPTUNA_TRIALS_XGBOOST = 10\n",
    "ROLLING_WINDOW = [7, 30, 60]\n",
    "\n",
    "models_results_logs = LoggerModelsResults()"
   ]
  },
  {
   "cell_type": "code",
   "execution_count": 5,
   "metadata": {},
   "outputs": [
    {
     "name": "stdout",
     "output_type": "stream",
     "text": [
      "df size: rows 40325 columns 21\n"
     ]
    }
   ],
   "source": [
    "df = SalesModelData()\n",
    "df = df.get_data(period=True, translit=True, left_lim='2023-01-01', right_lim='2024-12-31')\n",
    "print(f'df size: rows {len(df)} columns {len(df.columns)}')"
   ]
  },
  {
   "cell_type": "code",
   "execution_count": 6,
   "metadata": {},
   "outputs": [],
   "source": [
    "xgboost_model = TreeBoostedSalesModel(df=df,\n",
    "                                      model_strategy=XGboostStrategy(),\n",
    "                                      train_test_split_strategy=GoodsPredictStrategy(df=df, rolling_windows=ROLLING_WINDOW), \n",
    "                                      num_features_blocks=FEATURES_BLOCKS_QUANTITY_XGBOOST,\n",
    "                                      logs=models_results_logs)"
   ]
  },
  {
   "cell_type": "code",
   "execution_count": 7,
   "metadata": {},
   "outputs": [
    {
     "name": "stdout",
     "output_type": "stream",
     "text": [
      "Nothing new to merge\n",
      "Step 2/2\r"
     ]
    }
   ],
   "source": [
    "#hot-fix, need to refactor later\n",
    "#--------\n",
    "xgboost_model.feature_test_size = 'goods_model'\n",
    "#--------\n",
    "\n",
    "xgboost_model.main_loop_with_cv(chunks=CHUNKS,\n",
    "                                validation_size=VALIDATION_SIZE,\n",
    "                                cv_offset_list=CROSVAL_LIST)"
   ]
  },
  {
   "cell_type": "code",
   "execution_count": 8,
   "metadata": {},
   "outputs": [
    {
     "name": "stdout",
     "output_type": "stream",
     "text": [
      "Worst MSE 483.9847856473813\n",
      "Best  MSE 479.259560119472\n",
      "Worst time 1468.354 seconds\n",
      "Best  time 778.644 seconds\n"
     ]
    },
    {
     "data": {
      "text/html": [
       "<div>\n",
       "<style scoped>\n",
       "    .dataframe tbody tr th:only-of-type {\n",
       "        vertical-align: middle;\n",
       "    }\n",
       "\n",
       "    .dataframe tbody tr th {\n",
       "        vertical-align: top;\n",
       "    }\n",
       "\n",
       "    .dataframe thead th {\n",
       "        text-align: right;\n",
       "    }\n",
       "</style>\n",
       "<table border=\"1\" class=\"dataframe\">\n",
       "  <thead>\n",
       "    <tr style=\"text-align: right;\">\n",
       "      <th></th>\n",
       "      <th>set_onehot_dummy_features</th>\n",
       "      <th>MSE</th>\n",
       "      <th>params_num</th>\n",
       "      <th>fit_time</th>\n",
       "    </tr>\n",
       "  </thead>\n",
       "  <tbody>\n",
       "    <tr>\n",
       "      <th>0</th>\n",
       "      <td>0</td>\n",
       "      <td>479.259560</td>\n",
       "      <td>6</td>\n",
       "      <td>778.644</td>\n",
       "    </tr>\n",
       "    <tr>\n",
       "      <th>1</th>\n",
       "      <td>1</td>\n",
       "      <td>483.984786</td>\n",
       "      <td>13</td>\n",
       "      <td>1468.354</td>\n",
       "    </tr>\n",
       "  </tbody>\n",
       "</table>\n",
       "</div>"
      ],
      "text/plain": [
       "  set_onehot_dummy_features         MSE params_num  fit_time\n",
       "0                         0  479.259560          6   778.644\n",
       "1                         1  483.984786         13  1468.354"
      ]
     },
     "execution_count": 8,
     "metadata": {},
     "output_type": "execute_result"
    }
   ],
   "source": [
    "xgboost_model.set_results_table()\n",
    "xgboost_model.models_results.head(10)"
   ]
  },
  {
   "cell_type": "code",
   "execution_count": 9,
   "metadata": {},
   "outputs": [
    {
     "name": "stdout",
     "output_type": "stream",
     "text": [
      "Nothing new to merge\n"
     ]
    },
    {
     "data": {
      "text/plain": [
       "['0']"
      ]
     },
     "execution_count": 9,
     "metadata": {},
     "output_type": "execute_result"
    }
   ],
   "source": [
    "xgboost_model.select_top_model_vec(top_mse = 3, top_fit_time = 1)\n",
    "xgboost_model.selected_model_combination"
   ]
  },
  {
   "cell_type": "code",
   "execution_count": 10,
   "metadata": {},
   "outputs": [],
   "source": [
    "#In this model it is to long step for only reason to know default_mse\n",
    "#also it is strangly long in comparison with .get_best_model_pred_on_test(). need to check\n",
    "# mse_day, _, _ = xgboost_model._train_tree(data=xgboost_model.selected_data_for_best_model, \n",
    "#                                           cross_validation=False, \n",
    "#                                           logs=False, \n",
    "#                                           validation_size=TEST_SIZE+1, \n",
    "#                                           params=None)\n",
    "# print(f'MSE default_XGBRegressor day prediction: {mse_day}')"
   ]
  },
  {
   "cell_type": "code",
   "execution_count": 11,
   "metadata": {},
   "outputs": [],
   "source": [
    "# xgboost_model._manually_set_top_model_vec(['1'])\n",
    "# xgboost_model._manually_set_top_model_vec(['0'])\n",
    "# xgboost_model._manually_set_top_model_vec(['0', '0', '0', '0', '1', '1', '0'])\n",
    "# xgboost_model._manually_set_top_model_vec(['0', '0', '1', '0', '1', '1', '0'])"
   ]
  },
  {
   "cell_type": "code",
   "execution_count": 12,
   "metadata": {},
   "outputs": [
    {
     "data": {
      "text/html": [
       "<div>\n",
       "<style scoped>\n",
       "    .dataframe tbody tr th:only-of-type {\n",
       "        vertical-align: middle;\n",
       "    }\n",
       "\n",
       "    .dataframe tbody tr th {\n",
       "        vertical-align: top;\n",
       "    }\n",
       "\n",
       "    .dataframe thead th {\n",
       "        text-align: right;\n",
       "    }\n",
       "</style>\n",
       "<table border=\"1\" class=\"dataframe\">\n",
       "  <thead>\n",
       "    <tr style=\"text-align: right;\">\n",
       "      <th></th>\n",
       "      <th>created_day</th>\n",
       "      <th>created_week</th>\n",
       "      <th>created_month</th>\n",
       "      <th>created_year</th>\n",
       "      <th>day</th>\n",
       "      <th>sum</th>\n",
       "    </tr>\n",
       "  </thead>\n",
       "  <tbody>\n",
       "    <tr>\n",
       "      <th>0</th>\n",
       "      <td>2023-01-05</td>\n",
       "      <td>1</td>\n",
       "      <td>1</td>\n",
       "      <td>2023</td>\n",
       "      <td>5</td>\n",
       "      <td>45460.0</td>\n",
       "    </tr>\n",
       "    <tr>\n",
       "      <th>1</th>\n",
       "      <td>2023-01-08</td>\n",
       "      <td>1</td>\n",
       "      <td>1</td>\n",
       "      <td>2023</td>\n",
       "      <td>8</td>\n",
       "      <td>39820.0</td>\n",
       "    </tr>\n",
       "    <tr>\n",
       "      <th>2</th>\n",
       "      <td>2023-01-10</td>\n",
       "      <td>2</td>\n",
       "      <td>1</td>\n",
       "      <td>2023</td>\n",
       "      <td>10</td>\n",
       "      <td>61818.0</td>\n",
       "    </tr>\n",
       "    <tr>\n",
       "      <th>3</th>\n",
       "      <td>2023-01-11</td>\n",
       "      <td>2</td>\n",
       "      <td>1</td>\n",
       "      <td>2023</td>\n",
       "      <td>11</td>\n",
       "      <td>85950.0</td>\n",
       "    </tr>\n",
       "    <tr>\n",
       "      <th>4</th>\n",
       "      <td>2023-01-12</td>\n",
       "      <td>2</td>\n",
       "      <td>1</td>\n",
       "      <td>2023</td>\n",
       "      <td>12</td>\n",
       "      <td>419775.0</td>\n",
       "    </tr>\n",
       "    <tr>\n",
       "      <th>...</th>\n",
       "      <td>...</td>\n",
       "      <td>...</td>\n",
       "      <td>...</td>\n",
       "      <td>...</td>\n",
       "      <td>...</td>\n",
       "      <td>...</td>\n",
       "    </tr>\n",
       "    <tr>\n",
       "      <th>600</th>\n",
       "      <td>2024-09-12</td>\n",
       "      <td>37</td>\n",
       "      <td>9</td>\n",
       "      <td>2024</td>\n",
       "      <td>12</td>\n",
       "      <td>336501.0</td>\n",
       "    </tr>\n",
       "    <tr>\n",
       "      <th>601</th>\n",
       "      <td>2024-09-13</td>\n",
       "      <td>37</td>\n",
       "      <td>9</td>\n",
       "      <td>2024</td>\n",
       "      <td>13</td>\n",
       "      <td>842998.0</td>\n",
       "    </tr>\n",
       "    <tr>\n",
       "      <th>602</th>\n",
       "      <td>2024-09-15</td>\n",
       "      <td>37</td>\n",
       "      <td>9</td>\n",
       "      <td>2024</td>\n",
       "      <td>15</td>\n",
       "      <td>2680.0</td>\n",
       "    </tr>\n",
       "    <tr>\n",
       "      <th>603</th>\n",
       "      <td>2024-09-16</td>\n",
       "      <td>38</td>\n",
       "      <td>9</td>\n",
       "      <td>2024</td>\n",
       "      <td>16</td>\n",
       "      <td>531257.0</td>\n",
       "    </tr>\n",
       "    <tr>\n",
       "      <th>604</th>\n",
       "      <td>2024-09-17</td>\n",
       "      <td>38</td>\n",
       "      <td>9</td>\n",
       "      <td>2024</td>\n",
       "      <td>17</td>\n",
       "      <td>122133.0</td>\n",
       "    </tr>\n",
       "  </tbody>\n",
       "</table>\n",
       "<p>605 rows × 6 columns</p>\n",
       "</div>"
      ],
      "text/plain": [
       "    created_day  created_week  created_month  created_year  day       sum\n",
       "0    2023-01-05             1              1          2023    5   45460.0\n",
       "1    2023-01-08             1              1          2023    8   39820.0\n",
       "2    2023-01-10             2              1          2023   10   61818.0\n",
       "3    2023-01-11             2              1          2023   11   85950.0\n",
       "4    2023-01-12             2              1          2023   12  419775.0\n",
       "..          ...           ...            ...           ...  ...       ...\n",
       "600  2024-09-12            37              9          2024   12  336501.0\n",
       "601  2024-09-13            37              9          2024   13  842998.0\n",
       "602  2024-09-15            37              9          2024   15    2680.0\n",
       "603  2024-09-16            38              9          2024   16  531257.0\n",
       "604  2024-09-17            38              9          2024   17  122133.0\n",
       "\n",
       "[605 rows x 6 columns]"
      ]
     },
     "execution_count": 12,
     "metadata": {},
     "output_type": "execute_result"
    }
   ],
   "source": [
    "xgboost_model.selected_data_for_best_model"
   ]
  },
  {
   "cell_type": "code",
   "execution_count": 13,
   "metadata": {},
   "outputs": [
    {
     "name": "stderr",
     "output_type": "stream",
     "text": [
      "[I 2024-09-17 17:32:03,875] A new study created in memory with name: no-name-50658b2e-0f5a-4811-a67c-200d6256dc4c\n",
      "[I 2024-09-17 17:50:28,627] Trial 0 finished with value: -646.4422627698459 and parameters: {'max_depth': 2, 'learning_rate': 0.19665746044002158, 'n_estimators': 192, 'gamma': 0.18002641643854667, 'subsample': 0.9854100670950483, 'colsample_bytree': 0.8759041386992645, 'reg_alpha': 0.14686169065339588, 'reg_lambda': 0.7757536279448267}. Best is trial 0 with value: -646.4422627698459.\n"
     ]
    },
    {
     "name": "stdout",
     "output_type": "stream",
     "text": [
      "Лучшие параметры: {'max_depth': 2, 'learning_rate': 0.19665746044002158, 'n_estimators': 192, 'gamma': 0.18002641643854667, 'subsample': 0.9854100670950483, 'colsample_bytree': 0.8759041386992645, 'reg_alpha': 0.14686169065339588, 'reg_lambda': 0.7757536279448267}\n",
      "Лучший результат XGB VAL (MSE): 6.46E+02\n"
     ]
    }
   ],
   "source": [
    "best_params = xgboost_model.start_optuna(data=xgboost_model.selected_data_for_best_model, n_trials=OPTUNA_TRIALS_XGBOOST)"
   ]
  },
  {
   "cell_type": "code",
   "execution_count": 14,
   "metadata": {},
   "outputs": [
    {
     "name": "stdout",
     "output_type": "stream",
     "text": [
      "MSE for day prediction with best XGB model: 777.4973634418075\n"
     ]
    }
   ],
   "source": [
    "y_train, y_test, y_pred, mse = xgboost_model.get_best_model_pred_on_test(test_size=TEST_SIZE+1)"
   ]
  },
  {
   "cell_type": "code",
   "execution_count": 15,
   "metadata": {},
   "outputs": [
    {
     "data": {
      "text/plain": [
       "<Axes: >"
      ]
     },
     "execution_count": 15,
     "metadata": {},
     "output_type": "execute_result"
    },
    {
     "data": {
      "image/png": "[encoded data removed]",
      "text/plain": [
       "<Figure size 640x480 with 1 Axes>"
      ]
     },
     "metadata": {},
     "output_type": "display_data"
    }
   ],
   "source": [
    "fi = pd.DataFrame(data=xgboost_model.best_cv_model.feature_importances_, index=xgboost_model.best_cv_model.feature_names_in_, columns=['Importances'])\n",
    "fi.sort_values('Importances', ascending=True)[-20:].plot(kind='barh')"
   ]
  },
  {
   "cell_type": "code",
   "execution_count": 16,
   "metadata": {},
   "outputs": [],
   "source": [
    "_, margin_of_error = xgboost_model._train_tree(data=xgboost_model.selected_data_for_best_model, \n",
    "                                               cross_validation=True, \n",
    "                                               chunks=CHUNKS, \n",
    "                                               validation_size=VALIDATION_SIZE, \n",
    "                                               cv_offset_list = CROSVAL_LIST, \n",
    "                                               params=best_params)\n",
    "lower_bound, upper_bound = xgboost_model.calculate_low_up_bounds(y_pred, margin_of_error, y_test.index)"
   ]
  },
  {
   "cell_type": "code",
   "execution_count": 17,
   "metadata": {},
   "outputs": [
    {
     "data": {
      "text/plain": [
       "Body_care_set_Musk_mandarin_santal_..._6_sum_7_days                                      20.841812\n",
       "Body_care_set_Rosemary_vetiver_amber_..._7_sum_7_days                                    20.115859\n",
       "Body_care_set_Tonka_vanilla_white_musk_..._8_sum_7_days                                  19.675306\n",
       "Hair_care_set_Musk_mandarin_santal_..._9_sum_7_days                                      17.233188\n",
       "Hair_care_set_Rosemary_vetiver_amber_..._10_sum_7_days                                   13.809182\n",
       "                                                                                           ...    \n",
       "Shampun_dlya_normalnyh_volos_Oud_&_Black_pepper_(5000_ml)_470_sum_60_days                 0.066787\n",
       "Shampun_dlya_normalnyh_volos_bessulfatnyy_Cherry_&_Oud_(50_ml)_471_sum_60_days            4.952242\n",
       "Shampun_dlya_normalnyh_volos_bessulfatnyy_Cherry_&_Oud_(500_ml)_472_sum_60_days          21.555597\n",
       "Shampun_dlya_normalnyh_volos_bessulfatnyy_Grapefruit_&_Santal_(50_ml)_473_sum_60_days    14.569647\n",
       "Shampun_dlya_normalnyh_volos_bessulfatnyy_Oud_&_Black_pepper_(50_ml)_474_sum_60_days     16.377221\n",
       "Length: 1407, dtype: float64"
      ]
     },
     "execution_count": 17,
     "metadata": {},
     "output_type": "execute_result"
    }
   ],
   "source": [
    "margin_of_error"
   ]
  },
  {
   "cell_type": "code",
   "execution_count": 18,
   "metadata": {},
   "outputs": [
    {
     "data": {
      "text/html": [
       "<div>\n",
       "<style scoped>\n",
       "    .dataframe tbody tr th:only-of-type {\n",
       "        vertical-align: middle;\n",
       "    }\n",
       "\n",
       "    .dataframe tbody tr th {\n",
       "        vertical-align: top;\n",
       "    }\n",
       "\n",
       "    .dataframe thead th {\n",
       "        text-align: right;\n",
       "    }\n",
       "</style>\n",
       "<table border=\"1\" class=\"dataframe\">\n",
       "  <thead>\n",
       "    <tr style=\"text-align: right;\">\n",
       "      <th></th>\n",
       "      <th>MSE_crossval</th>\n",
       "      <th>MSE_test</th>\n",
       "      <th>best_params</th>\n",
       "      <th>features_vec</th>\n",
       "    </tr>\n",
       "  </thead>\n",
       "  <tbody>\n",
       "    <tr>\n",
       "      <th>XGBoost</th>\n",
       "      <td>6.46E+02</td>\n",
       "      <td>7.77E+02</td>\n",
       "      <td>{'max_depth': 2, 'learning_rate': 0.1966574604...</td>\n",
       "      <td>['0']</td>\n",
       "    </tr>\n",
       "  </tbody>\n",
       "</table>\n",
       "</div>"
      ],
      "text/plain": [
       "        MSE_crossval  MSE_test  \\\n",
       "XGBoost     6.46E+02  7.77E+02   \n",
       "\n",
       "                                               best_params features_vec  \n",
       "XGBoost  {'max_depth': 2, 'learning_rate': 0.1966574604...        ['0']  "
      ]
     },
     "execution_count": 18,
     "metadata": {},
     "output_type": "execute_result"
    }
   ],
   "source": [
    "models_results_logs.all_models_parametrs"
   ]
  },
  {
   "cell_type": "markdown",
   "metadata": {},
   "source": [
    "Save model\n",
    "----------"
   ]
  },
  {
   "cell_type": "code",
   "execution_count": 19,
   "metadata": {},
   "outputs": [],
   "source": [
    "\n",
    "file_name = \"sales_multi_goods_7_30-60.pkl\"\n",
    "\n",
    "# save\n",
    "pickle.dump(xgboost_model.best_cv_model, open(file_name, \"wb\"))"
   ]
  },
  {
   "cell_type": "markdown",
   "metadata": {},
   "source": [
    "Save predictions\n",
    "--------\n"
   ]
  },
  {
   "cell_type": "code",
   "execution_count": 20,
   "metadata": {},
   "outputs": [
    {
     "data": {
      "text/plain": [
       "(array([[ 2.6193707,  1.7248517,  1.48445  , ..., 66.27652  , 27.447721 ,\n",
       "         12.784403 ]], dtype=float32),\n",
       " 1407)"
      ]
     },
     "execution_count": 20,
     "metadata": {},
     "output_type": "execute_result"
    }
   ],
   "source": [
    "xgboost_model._predict_on_last_period(), len(xgboost_model._predict_on_last_period()[0])"
   ]
  },
  {
   "cell_type": "code",
   "execution_count": 21,
   "metadata": {},
   "outputs": [
    {
     "data": {
      "text/html": [
       "<div>\n",
       "<style scoped>\n",
       "    .dataframe tbody tr th:only-of-type {\n",
       "        vertical-align: middle;\n",
       "    }\n",
       "\n",
       "    .dataframe tbody tr th {\n",
       "        vertical-align: top;\n",
       "    }\n",
       "\n",
       "    .dataframe thead th {\n",
       "        text-align: right;\n",
       "    }\n",
       "</style>\n",
       "<table border=\"1\" class=\"dataframe\">\n",
       "  <thead>\n",
       "    <tr style=\"text-align: right;\">\n",
       "      <th></th>\n",
       "      <th>Body_care_set_Musk_mandarin_santal_..._6_sum_7_days</th>\n",
       "      <th>Body_care_set_Rosemary_vetiver_amber_..._7_sum_7_days</th>\n",
       "      <th>Body_care_set_Tonka_vanilla_white_musk_..._8_sum_7_days</th>\n",
       "      <th>Hair_care_set_Musk_mandarin_santal_..._9_sum_7_days</th>\n",
       "      <th>Hair_care_set_Rosemary_vetiver_amber_..._10_sum_7_days</th>\n",
       "      <th>Hair_care_set_Tonka_vanilla_white_musk_..._11_sum_7_days</th>\n",
       "      <th>Hand_care_set_Musk_mandarin_santal_..._12_sum_7_days</th>\n",
       "      <th>Hand_care_set_Rosemary_vetiver_amber_..._13_sum_7_days</th>\n",
       "      <th>Hand_care_set_Tonka_vanilla_white_musk_..._14_sum_7_days</th>\n",
       "      <th>Aromadiffuzor_Amber_dream_(100_ml)_15_sum_7_days</th>\n",
       "      <th>...</th>\n",
       "      <th>Shampun_dlya_normalnyh_volos_Grapefruit_&amp;_Santal_(5000_ml)_465_sum_60_days</th>\n",
       "      <th>Shampun_dlya_normalnyh_volos_Jasmine_&amp;_Cassis_(250_ml)_466_sum_60_days</th>\n",
       "      <th>Shampun_dlya_normalnyh_volos_Jasmine_&amp;_Cassis_(500_ml)_467_sum_60_days</th>\n",
       "      <th>Shampun_dlya_normalnyh_volos_Oud_&amp;_Black_pepper_(250_ml)_468_sum_60_days</th>\n",
       "      <th>Shampun_dlya_normalnyh_volos_Oud_&amp;_Black_pepper_(500_ml)_469_sum_60_days</th>\n",
       "      <th>Shampun_dlya_normalnyh_volos_Oud_&amp;_Black_pepper_(5000_ml)_470_sum_60_days</th>\n",
       "      <th>Shampun_dlya_normalnyh_volos_bessulfatnyy_Cherry_&amp;_Oud_(50_ml)_471_sum_60_days</th>\n",
       "      <th>Shampun_dlya_normalnyh_volos_bessulfatnyy_Cherry_&amp;_Oud_(500_ml)_472_sum_60_days</th>\n",
       "      <th>Shampun_dlya_normalnyh_volos_bessulfatnyy_Grapefruit_&amp;_Santal_(50_ml)_473_sum_60_days</th>\n",
       "      <th>Shampun_dlya_normalnyh_volos_bessulfatnyy_Oud_&amp;_Black_pepper_(50_ml)_474_sum_60_days</th>\n",
       "    </tr>\n",
       "  </thead>\n",
       "  <tbody>\n",
       "    <tr>\n",
       "      <th>0</th>\n",
       "      <td>2.619371</td>\n",
       "      <td>1.724852</td>\n",
       "      <td>1.48445</td>\n",
       "      <td>1.923569</td>\n",
       "      <td>3.849622</td>\n",
       "      <td>2.433256</td>\n",
       "      <td>3.479694</td>\n",
       "      <td>3.109496</td>\n",
       "      <td>2.457119</td>\n",
       "      <td>5.30574</td>\n",
       "      <td>...</td>\n",
       "      <td>-1.027621</td>\n",
       "      <td>-0.53094</td>\n",
       "      <td>-0.978936</td>\n",
       "      <td>-18.167536</td>\n",
       "      <td>41.372318</td>\n",
       "      <td>-0.129069</td>\n",
       "      <td>63.680767</td>\n",
       "      <td>66.27652</td>\n",
       "      <td>27.447721</td>\n",
       "      <td>12.784403</td>\n",
       "    </tr>\n",
       "  </tbody>\n",
       "</table>\n",
       "<p>1 rows × 1407 columns</p>\n",
       "</div>"
      ],
      "text/plain": [
       "   Body_care_set_Musk_mandarin_santal_..._6_sum_7_days  \\\n",
       "0                                           2.619371     \n",
       "\n",
       "   Body_care_set_Rosemary_vetiver_amber_..._7_sum_7_days  \\\n",
       "0                                           1.724852       \n",
       "\n",
       "   Body_care_set_Tonka_vanilla_white_musk_..._8_sum_7_days  \\\n",
       "0                                            1.48445         \n",
       "\n",
       "   Hair_care_set_Musk_mandarin_santal_..._9_sum_7_days  \\\n",
       "0                                           1.923569     \n",
       "\n",
       "   Hair_care_set_Rosemary_vetiver_amber_..._10_sum_7_days  \\\n",
       "0                                           3.849622        \n",
       "\n",
       "   Hair_care_set_Tonka_vanilla_white_musk_..._11_sum_7_days  \\\n",
       "0                                           2.433256          \n",
       "\n",
       "   Hand_care_set_Musk_mandarin_santal_..._12_sum_7_days  \\\n",
       "0                                           3.479694      \n",
       "\n",
       "   Hand_care_set_Rosemary_vetiver_amber_..._13_sum_7_days  \\\n",
       "0                                           3.109496        \n",
       "\n",
       "   Hand_care_set_Tonka_vanilla_white_musk_..._14_sum_7_days  \\\n",
       "0                                           2.457119          \n",
       "\n",
       "   Aromadiffuzor_Amber_dream_(100_ml)_15_sum_7_days  ...  \\\n",
       "0                                           5.30574  ...   \n",
       "\n",
       "   Shampun_dlya_normalnyh_volos_Grapefruit_&_Santal_(5000_ml)_465_sum_60_days  \\\n",
       "0                                          -1.027621                            \n",
       "\n",
       "   Shampun_dlya_normalnyh_volos_Jasmine_&_Cassis_(250_ml)_466_sum_60_days  \\\n",
       "0                                           -0.53094                        \n",
       "\n",
       "   Shampun_dlya_normalnyh_volos_Jasmine_&_Cassis_(500_ml)_467_sum_60_days  \\\n",
       "0                                          -0.978936                        \n",
       "\n",
       "   Shampun_dlya_normalnyh_volos_Oud_&_Black_pepper_(250_ml)_468_sum_60_days  \\\n",
       "0                                         -18.167536                          \n",
       "\n",
       "   Shampun_dlya_normalnyh_volos_Oud_&_Black_pepper_(500_ml)_469_sum_60_days  \\\n",
       "0                                          41.372318                          \n",
       "\n",
       "   Shampun_dlya_normalnyh_volos_Oud_&_Black_pepper_(5000_ml)_470_sum_60_days  \\\n",
       "0                                          -0.129069                           \n",
       "\n",
       "   Shampun_dlya_normalnyh_volos_bessulfatnyy_Cherry_&_Oud_(50_ml)_471_sum_60_days  \\\n",
       "0                                          63.680767                                \n",
       "\n",
       "   Shampun_dlya_normalnyh_volos_bessulfatnyy_Cherry_&_Oud_(500_ml)_472_sum_60_days  \\\n",
       "0                                           66.27652                                 \n",
       "\n",
       "   Shampun_dlya_normalnyh_volos_bessulfatnyy_Grapefruit_&_Santal_(50_ml)_473_sum_60_days  \\\n",
       "0                                          27.447721                                       \n",
       "\n",
       "   Shampun_dlya_normalnyh_volos_bessulfatnyy_Oud_&_Black_pepper_(50_ml)_474_sum_60_days  \n",
       "0                                          12.784403                                     \n",
       "\n",
       "[1 rows x 1407 columns]"
      ]
     },
     "execution_count": 21,
     "metadata": {},
     "output_type": "execute_result"
    }
   ],
   "source": [
    "preds = pd.DataFrame(columns=y_train.columns, data=xgboost_model._predict_on_last_period())\n",
    "preds"
   ]
  },
  {
   "cell_type": "code",
   "execution_count": 22,
   "metadata": {},
   "outputs": [],
   "source": [
    "file_name_prediction = \"sales_multi_goods_7_30-60_predictions.pkl\"\n",
    "preds = pd.DataFrame(columns=y_train.columns, data=xgboost_model._predict_on_last_period())"
   ]
  },
  {
   "cell_type": "code",
   "execution_count": 23,
   "metadata": {},
   "outputs": [],
   "source": [
    "preds_7 = preds.iloc[:, preds.columns.str.contains('7_days')]\n",
    "preds_7 = preds_7.T\n",
    "preds_7.columns = ['7_preds']\n",
    "preds_7.index = preds_7.index.str.replace(r'_\\d+_sum_\\d+_days$', '', regex=True)\n",
    "\n",
    "preds_30 = preds.iloc[:, preds.columns.str.contains('30_days')]\n",
    "preds_30 = preds_30.T\n",
    "preds_30.columns = ['30_preds']\n",
    "preds_30.index = preds_30.index.str.replace(r'_\\d+_sum_\\d+_days$', '', regex=True)\n",
    "\n",
    "preds_60 = preds.iloc[:, preds.columns.str.contains('60_days')]\n",
    "preds_60 = preds_60.T\n",
    "preds_60.columns = ['60_preds']\n",
    "preds_60.index = preds_60.index.str.replace(r'_\\d+_sum_\\d+_days$', '', regex=True)"
   ]
  },
  {
   "cell_type": "code",
   "execution_count": 24,
   "metadata": {},
   "outputs": [],
   "source": [
    "# preds_all = pd.concat([preds_7, preds_30, preds_60], axis=0)\n",
    "preds_all = pd.concat([preds_7, preds_30, preds_60], axis=1)"
   ]
  },
  {
   "cell_type": "code",
   "execution_count": 25,
   "metadata": {},
   "outputs": [
    {
     "data": {
      "text/html": [
       "<div>\n",
       "<style scoped>\n",
       "    .dataframe tbody tr th:only-of-type {\n",
       "        vertical-align: middle;\n",
       "    }\n",
       "\n",
       "    .dataframe tbody tr th {\n",
       "        vertical-align: top;\n",
       "    }\n",
       "\n",
       "    .dataframe thead th {\n",
       "        text-align: right;\n",
       "    }\n",
       "</style>\n",
       "<table border=\"1\" class=\"dataframe\">\n",
       "  <thead>\n",
       "    <tr style=\"text-align: right;\">\n",
       "      <th></th>\n",
       "      <th>7_preds</th>\n",
       "      <th>30_preds</th>\n",
       "      <th>60_preds</th>\n",
       "    </tr>\n",
       "  </thead>\n",
       "  <tbody>\n",
       "    <tr>\n",
       "      <th>Body_care_set_Musk_mandarin_santal_...</th>\n",
       "      <td>2.619371</td>\n",
       "      <td>13.725945</td>\n",
       "      <td>15.835909</td>\n",
       "    </tr>\n",
       "    <tr>\n",
       "      <th>Body_care_set_Rosemary_vetiver_amber_...</th>\n",
       "      <td>1.724852</td>\n",
       "      <td>9.776658</td>\n",
       "      <td>14.969533</td>\n",
       "    </tr>\n",
       "    <tr>\n",
       "      <th>Body_care_set_Tonka_vanilla_white_musk_...</th>\n",
       "      <td>1.484450</td>\n",
       "      <td>6.912789</td>\n",
       "      <td>13.730696</td>\n",
       "    </tr>\n",
       "    <tr>\n",
       "      <th>Hair_care_set_Musk_mandarin_santal_...</th>\n",
       "      <td>1.923569</td>\n",
       "      <td>9.154207</td>\n",
       "      <td>16.174612</td>\n",
       "    </tr>\n",
       "    <tr>\n",
       "      <th>Hair_care_set_Rosemary_vetiver_amber_...</th>\n",
       "      <td>3.849622</td>\n",
       "      <td>17.495764</td>\n",
       "      <td>31.634666</td>\n",
       "    </tr>\n",
       "    <tr>\n",
       "      <th>...</th>\n",
       "      <td>...</td>\n",
       "      <td>...</td>\n",
       "      <td>...</td>\n",
       "    </tr>\n",
       "    <tr>\n",
       "      <th>Shampun_dlya_normalnyh_volos_Oud_&amp;_Black_pepper_(5000_ml)</th>\n",
       "      <td>0.005357</td>\n",
       "      <td>-0.066290</td>\n",
       "      <td>-0.129069</td>\n",
       "    </tr>\n",
       "    <tr>\n",
       "      <th>Shampun_dlya_normalnyh_volos_bessulfatnyy_Cherry_&amp;_Oud_(50_ml)</th>\n",
       "      <td>7.885705</td>\n",
       "      <td>31.026674</td>\n",
       "      <td>63.680767</td>\n",
       "    </tr>\n",
       "    <tr>\n",
       "      <th>Shampun_dlya_normalnyh_volos_bessulfatnyy_Cherry_&amp;_Oud_(500_ml)</th>\n",
       "      <td>6.885270</td>\n",
       "      <td>21.930464</td>\n",
       "      <td>66.276520</td>\n",
       "    </tr>\n",
       "    <tr>\n",
       "      <th>Shampun_dlya_normalnyh_volos_bessulfatnyy_Grapefruit_&amp;_Santal_(50_ml)</th>\n",
       "      <td>3.482336</td>\n",
       "      <td>14.855224</td>\n",
       "      <td>27.447721</td>\n",
       "    </tr>\n",
       "    <tr>\n",
       "      <th>Shampun_dlya_normalnyh_volos_bessulfatnyy_Oud_&amp;_Black_pepper_(50_ml)</th>\n",
       "      <td>3.170682</td>\n",
       "      <td>6.265857</td>\n",
       "      <td>12.784403</td>\n",
       "    </tr>\n",
       "  </tbody>\n",
       "</table>\n",
       "<p>469 rows × 3 columns</p>\n",
       "</div>"
      ],
      "text/plain": [
       "                                                     7_preds   30_preds  \\\n",
       "Body_care_set_Musk_mandarin_santal_...              2.619371  13.725945   \n",
       "Body_care_set_Rosemary_vetiver_amber_...            1.724852   9.776658   \n",
       "Body_care_set_Tonka_vanilla_white_musk_...          1.484450   6.912789   \n",
       "Hair_care_set_Musk_mandarin_santal_...              1.923569   9.154207   \n",
       "Hair_care_set_Rosemary_vetiver_amber_...            3.849622  17.495764   \n",
       "...                                                      ...        ...   \n",
       "Shampun_dlya_normalnyh_volos_Oud_&_Black_pepper...  0.005357  -0.066290   \n",
       "Shampun_dlya_normalnyh_volos_bessulfatnyy_Cherr...  7.885705  31.026674   \n",
       "Shampun_dlya_normalnyh_volos_bessulfatnyy_Cherr...  6.885270  21.930464   \n",
       "Shampun_dlya_normalnyh_volos_bessulfatnyy_Grape...  3.482336  14.855224   \n",
       "Shampun_dlya_normalnyh_volos_bessulfatnyy_Oud_&...  3.170682   6.265857   \n",
       "\n",
       "                                                     60_preds  \n",
       "Body_care_set_Musk_mandarin_santal_...              15.835909  \n",
       "Body_care_set_Rosemary_vetiver_amber_...            14.969533  \n",
       "Body_care_set_Tonka_vanilla_white_musk_...          13.730696  \n",
       "Hair_care_set_Musk_mandarin_santal_...              16.174612  \n",
       "Hair_care_set_Rosemary_vetiver_amber_...            31.634666  \n",
       "...                                                       ...  \n",
       "Shampun_dlya_normalnyh_volos_Oud_&_Black_pepper...  -0.129069  \n",
       "Shampun_dlya_normalnyh_volos_bessulfatnyy_Cherr...  63.680767  \n",
       "Shampun_dlya_normalnyh_volos_bessulfatnyy_Cherr...  66.276520  \n",
       "Shampun_dlya_normalnyh_volos_bessulfatnyy_Grape...  27.447721  \n",
       "Shampun_dlya_normalnyh_volos_bessulfatnyy_Oud_&...  12.784403  \n",
       "\n",
       "[469 rows x 3 columns]"
      ]
     },
     "execution_count": 25,
     "metadata": {},
     "output_type": "execute_result"
    }
   ],
   "source": [
    "preds_all"
   ]
  },
  {
   "cell_type": "code",
   "execution_count": 26,
   "metadata": {},
   "outputs": [],
   "source": [
    "preds_all.to_pickle(file_name_prediction)"
   ]
  }
 ],
 "metadata": {
  "kernelspec": {
   "display_name": ".venv",
   "language": "python",
   "name": "python3"
  },
  "language_info": {
   "codemirror_mode": {
    "name": "ipython",
    "version": 3
   },
   "file_extension": ".py",
   "mimetype": "text/x-python",
   "name": "python",
   "nbconvert_exporter": "python",
   "pygments_lexer": "ipython3",
   "version": "3.12.7"
  }
 },
 "nbformat": 4,
 "nbformat_minor": 2
}
